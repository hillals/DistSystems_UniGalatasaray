{
 "cells": [
  {
   "cell_type": "code",
   "execution_count": 1,
   "metadata": {},
   "outputs": [],
   "source": [
    "import speech_recognition as sr\n",
    "mic = sr.Microphone()\n",
    "r = sr.Recognizer()"
   ]
  },
  {
   "cell_type": "code",
   "execution_count": null,
   "metadata": {},
   "outputs": [],
   "source": []
  },
  {
   "cell_type": "code",
   "execution_count": 2,
   "metadata": {},
   "outputs": [
    {
     "name": "stdout",
     "output_type": "stream",
     "text": [
      "Arka plan gürültüsü:1021.1980262885247\n",
      "Merhaba ağabeyim ve biliyor musun\n"
     ]
    }
   ],
   "source": [
    "with sr.Microphone() as source:\n",
    "    r.adjust_for_ambient_noise(source)\n",
    "    print(\"Arka plan gürültüsü:\" + str(r.energy_threshold))\n",
    "\n",
    "    try:\n",
    "        ses = r.listen(source, timeout=2, phrase_time_limit=5)\n",
    "        print(r.recognize_google(ses, language='tr-tr'))\n",
    "    except sr.WaitTimeoutError:\n",
    "        print(\"Dinleme zaman aşımına uğradı\")\n",
    "\n",
    "    except sr.UnknownValueError:\n",
    "        print(\"Ne dediğini anlayamadım\")\n",
    "\n",
    "    except sr.RequestError:\n",
    "        print(\"İnternete bağlanamıyorum\")"
   ]
  },
  {
   "cell_type": "code",
   "execution_count": null,
   "metadata": {},
   "outputs": [],
   "source": []
  }
 ],
 "metadata": {
  "kernelspec": {
   "display_name": "Python 3",
   "language": "python",
   "name": "python3"
  },
  "language_info": {
   "codemirror_mode": {
    "name": "ipython",
    "version": 3
   },
   "file_extension": ".py",
   "mimetype": "text/x-python",
   "name": "python",
   "nbconvert_exporter": "python",
   "pygments_lexer": "ipython3",
   "version": "3.7.4"
  }
 },
 "nbformat": 4,
 "nbformat_minor": 2
}
